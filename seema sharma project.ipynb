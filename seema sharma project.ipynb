{
 "cells": [
  {
   "cell_type": "code",
   "execution_count": 9,
   "metadata": {},
   "outputs": [
    {
     "name": "stdout",
     "output_type": "stream",
     "text": [
      "(891, 7)\n"
     ]
    }
   ],
   "source": [
    "import numpy as np\n",
    "import pandas as pd\n",
    "import matplotlib.pyplot as plt\n",
    "import seaborn as sb\n",
    "Titan = pd.read_csv('titanic.csv')\n",
    "print(Titan.shape)"
   ]
  },
  {
   "cell_type": "code",
   "execution_count": 10,
   "metadata": {},
   "outputs": [
    {
     "name": "stdout",
     "output_type": "stream",
     "text": [
      "   PassengerId  Survived  Pclass     Sex   Age     Fare Embarked\n",
      "0            1         0       3    male  22.0   7.2500        S\n",
      "1            2         1       1  female  38.0  71.2833        C\n",
      "2            3         1       3  female  26.0   7.9250        S\n",
      "3            4         1       1  female  35.0  53.1000        S\n",
      "4            5         0       3    male  35.0   8.0500        S\n"
     ]
    }
   ],
   "source": [
    "print(Titan.head())\n"
   ]
  },
  {
   "cell_type": "code",
   "execution_count": 11,
   "metadata": {},
   "outputs": [
    {
     "name": "stdout",
     "output_type": "stream",
     "text": [
      "       PassengerId    Survived      Pclass         Age        Fare\n",
      "count   891.000000  891.000000  891.000000  714.000000  891.000000\n",
      "mean    446.000000    0.383838    2.308642   29.699118   32.204208\n",
      "std     257.353842    0.486592    0.836071   14.526497   49.693429\n",
      "min       1.000000    0.000000    1.000000    0.420000    0.000000\n",
      "25%     223.500000    0.000000    2.000000   20.125000    7.910400\n",
      "50%     446.000000    0.000000    3.000000   28.000000   14.454200\n",
      "75%     668.500000    1.000000    3.000000   38.000000   31.000000\n",
      "max     891.000000    1.000000    3.000000   80.000000  512.329200\n"
     ]
    }
   ],
   "source": [
    "df=pd.DataFrame(Titan)\n",
    "print(df.describe())"
   ]
  },
  {
   "cell_type": "code",
   "execution_count": 12,
   "metadata": {},
   "outputs": [
    {
     "name": "stdout",
     "output_type": "stream",
     "text": [
      "      Age     Fare Embarked\n",
      "0    22.0   7.2500        S\n",
      "1    38.0  71.2833        C\n",
      "2    26.0   7.9250        S\n",
      "3    35.0  53.1000        S\n",
      "4    35.0   8.0500        S\n",
      "..    ...      ...      ...\n",
      "886  27.0  13.0000        S\n",
      "887  19.0  30.0000        S\n",
      "888   NaN  23.4500        S\n",
      "889  26.0  30.0000        C\n",
      "890  32.0   7.7500        Q\n",
      "\n",
      "[891 rows x 3 columns]\n"
     ]
    }
   ],
   "source": [
    "print(df.iloc[:,-3:])"
   ]
  },
  {
   "cell_type": "code",
   "execution_count": 13,
   "metadata": {},
   "outputs": [
    {
     "name": "stdout",
     "output_type": "stream",
     "text": [
      "['S' 'C' 'Q' nan]\n"
     ]
    }
   ],
   "source": [
    "print(df.Embarked.unique())"
   ]
  },
  {
   "cell_type": "code",
   "execution_count": 14,
   "metadata": {},
   "outputs": [
    {
     "data": {
      "image/png": "[encoded data removed]",
      "text/plain": [
       "<Figure size 432x288 with 1 Axes>"
      ]
     },
     "metadata": {
      "needs_background": "light"
     },
     "output_type": "display_data"
    }
   ],
   "source": [
    "plt.hist(data=df, x='Age')\n",
    "plt.xlabel('Age')\n",
    "plt.ylabel('Frequency')\n",
    "plt.show()"
   ]
  },
  {
   "cell_type": "code",
   "execution_count": 15,
   "metadata": {},
   "outputs": [
    {
     "data": {
      "image/png": "[encoded data removed]",
      "text/plain": [
       "<Figure size 432x288 with 1 Axes>"
      ]
     },
     "metadata": {
      "needs_background": "light"
     },
     "output_type": "display_data"
    }
   ],
   "source": [
    "sb.countplot(x='Sex', data=df)\n",
    "plt.show()"
   ]
  },
  {
   "cell_type": "code",
   "execution_count": 16,
   "metadata": {},
   "outputs": [
    {
     "data": {
      "image/png": "[encoded data removed]",
      "text/plain": [
       "<Figure size 432x288 with 1 Axes>"
      ]
     },
     "metadata": {},
     "output_type": "display_data"
    }
   ],
   "source": [
    "cases=[500000, 1800000, 1200000]\n",
    "labelslist=[\"Deaths\", \"Total Cases\", \"Cured\"]\n",
    "plt.pie(cases,labels=labelslist)\n",
    "plt.show()"
   ]
  },
  {
   "cell_type": "code",
   "execution_count": null,
   "metadata": {},
   "outputs": [],
   "source": []
  }
 ],
 "metadata": {
  "kernelspec": {
   "display_name": "Python 3",
   "language": "python",
   "name": "python3"
  },
  "language_info": {
   "codemirror_mode": {
    "name": "ipython",
    "version": 3
   },
   "file_extension": ".py",
   "mimetype": "text/x-python",
   "name": "python",
   "nbconvert_exporter": "python",
   "pygments_lexer": "ipython3",
   "version": "3.7.4"
  }
 },
 "nbformat": 4,
 "nbformat_minor": 4
}
